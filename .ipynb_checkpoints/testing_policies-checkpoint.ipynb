{
 "cells": [
  {
   "cell_type": "code",
   "execution_count": null,
   "metadata": {},
   "outputs": [],
   "source": [
    "import gym \n",
    "from inventory_env import Inventory \n",
    "import numpy as np\n",
    "import matplotlib.pyplot as plt"
   ]
  },
  {
   "cell_type": "code",
   "execution_count": null,
   "metadata": {},
   "outputs": [],
   "source": [
    "# random  policy, unknown value\n",
    "\n",
    "T = 100000 # episode length\n",
    "env = Inventory(length=T) # create  the  inventory  network  environment  with default parameters and specified episode length\n",
    "n_episodes = 100 # number  of  episodes  to  run\n",
    "avg_reward = np.zeros((n_episodes, T))\n",
    "for i in range(n_episodes):\n",
    "    \n",
    "    done = False\n",
    "    env.reset()\n",
    "    reward_sum = 0\n",
    "    t = 0\n",
    "    \n",
    "    while not done:\n",
    "        action = env.action_space.sample()\n",
    "        obs, reward, done, info = env.step(action)\n",
    "        reward_sum = reward_sum + reward\n",
    "        avg_reward[i,t] = (reward_sum)*T/(t+1)\n",
    "        t = t + 1"
   ]
  },
  {
   "cell_type": "code",
   "execution_count": null,
   "metadata": {},
   "outputs": [],
   "source": [
    "print(-np.mean(avg_reward[:,-1]), '+/-', 1.96*np.std(avg_reward[:,-1])/np.sqrt(n_episodes))\n",
    "plt.xlabel(\"Time Horizon\")\n",
    "plt.ylabel(\"Mean Long Run Average Cost (over 100 episodes)\")\n",
    "plt.title(\"Random Policy\")\n",
    "plt.plot(-np.mean(avg_reward, axis=0))"
   ]
  },
  {
   "cell_type": "code",
   "execution_count": null,
   "metadata": {},
   "outputs": [],
   "source": [
    "# optimal constant order policy, we know from theory should have value of about .732\n",
    "\n",
    "# let lambda = p = h = L = 1\n",
    "# then the optimal constant order policy has r_inf = 1 - srt(1/3) (approx .423)\n",
    "# and the optimal constant order policy has a long run average cost of\n",
    "#   C(pi_{r_inf}) = sqrt(3) - 1 (approx .732)\n",
    "\n",
    "T = 100000 # episode length\n",
    "r = 1-(1/3)**(1/2) #value for constant order policy\n",
    "env = Inventory(length=T) # create  the  inventory  network  environment  with default parameters and specified episode length\n",
    "n_episodes = 100 # number  of  episodes  to  run\n",
    "avg_reward = np.zeros((n_episodes, T))\n",
    "for i in range(n_episodes):\n",
    "    \n",
    "    done = False\n",
    "    env.reset()\n",
    "    reward_sum = 0\n",
    "    t = 0\n",
    "    \n",
    "    while not done:\n",
    "        action = np.array([r])\n",
    "        obs, reward, done, info = env.step(action)\n",
    "        reward_sum = reward_sum + reward\n",
    "        avg_reward[i,t] = (reward_sum)*T/(t+1)\n",
    "        t = t + 1"
   ]
  },
  {
   "cell_type": "code",
   "execution_count": null,
   "metadata": {},
   "outputs": [],
   "source": [
    "print(-np.mean(avg_reward[:,-1]), '+/-', 1.96*np.std(avg_reward[:,-1])/np.sqrt(n_episodes))\n",
    "plt.xlabel(\"Time Horizon\")\n",
    "plt.ylabel(\"Mean Long Run Average Cost (over 100 episodes)\")\n",
    "plt.title(\"Optimal Constant Order Policy\")\n",
    "plt.plot(-np.mean(avg_reward, axis=0))"
   ]
  }
 ],
 "metadata": {
  "kernelspec": {
   "display_name": "Python 3",
   "language": "python",
   "name": "python3"
  },
  "language_info": {
   "codemirror_mode": {
    "name": "ipython",
    "version": 3
   },
   "file_extension": ".py",
   "mimetype": "text/x-python",
   "name": "python",
   "nbconvert_exporter": "python",
   "pygments_lexer": "ipython3",
   "version": "3.7.6"
  }
 },
 "nbformat": 4,
 "nbformat_minor": 4
}
